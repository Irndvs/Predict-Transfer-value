{
  "nbformat": 4,
  "nbformat_minor": 0,
  "metadata": {
    "colab": {
      "provenance": [],
      "gpuType": "T4"
    },
    "kernelspec": {
      "name": "python3",
      "display_name": "Python 3"
    },
    "language_info": {
      "name": "python"
    },
    "accelerator": "GPU"
  },
  "cells": [
    {
      "cell_type": "markdown",
      "source": [
        "# From the beginning"
      ],
      "metadata": {
        "id": "h_pGcVYIRbhf"
      }
    },
    {
      "cell_type": "code",
      "source": [
        "import pandas as pd\n",
        "\n",
        "# Load the dataset\n",
        "df = pd.read_csv(\"/content/male_players (legacy).csv\")\n",
        "\n",
        "# View the first few rows\n",
        "print(df.head())\n",
        "\n",
        "# Check for missing values\n",
        "print(df.isnull().sum())\n",
        "\n",
        "# Impute missing values or drop irrelevant columns\n",
        "df.fillna(method='ffill', inplace=True)\n",
        "\n",
        "# Save cleaned data\n",
        "df.to_csv(\"cleaned_dataset.csv\", index=False)\n"
      ],
      "metadata": {
        "colab": {
          "base_uri": "https://localhost:8080/"
        },
        "id": "_4MDpxgCRg8L",
        "outputId": "46197c29-d841-4c04-b9f4-64188b73a963"
      },
      "execution_count": 2,
      "outputs": [
        {
          "output_type": "stream",
          "name": "stderr",
          "text": [
            "<ipython-input-2-428aabeab5c9>:4: DtypeWarning: Columns (108) have mixed types. Specify dtype option on import or set low_memory=False.\n",
            "  df = pd.read_csv(\"/content/male_players (legacy).csv\")\n"
          ]
        },
        {
          "output_type": "stream",
          "name": "stdout",
          "text": [
            "   player_id                                        player_url  fifa_version  \\\n",
            "0     158023                /player/158023/lionel-messi/150002            15   \n",
            "1      20801  /player/20801/c-ronaldo-dos-santos-aveiro/150002            15   \n",
            "2       9014                  /player/9014/arjen-robben/150002            15   \n",
            "3      41236           /player/41236/zlatan-ibrahimovic/150002            15   \n",
            "4     167495                /player/167495/manuel-neuer/150002            15   \n",
            "\n",
            "   fifa_update fifa_update_date         short_name  \\\n",
            "0            2       2014-09-18           L. Messi   \n",
            "1            2       2014-09-18  Cristiano Ronaldo   \n",
            "2            2       2014-09-18          A. Robben   \n",
            "3            2       2014-09-18     Z. Ibrahimović   \n",
            "4            2       2014-09-18           M. Neuer   \n",
            "\n",
            "                             long_name player_positions  overall  potential  \\\n",
            "0       Lionel Andrés Messi Cuccittini               CF       93         95   \n",
            "1  Cristiano Ronaldo dos Santos Aveiro           LW, LM       92         92   \n",
            "2                         Arjen Robben       RM, LM, RW       90         90   \n",
            "3                   Zlatan Ibrahimović               ST       90         90   \n",
            "4                   Manuel Peter Neuer               GK       90         90   \n",
            "\n",
            "   ...   cdm   rdm   rwb    lb   lcb    cb   rcb    rb    gk  \\\n",
            "0  ...  62+3  62+3  62+3  54+3  45+3  45+3  45+3  54+3  15+3   \n",
            "1  ...  63+3  63+3  63+3  57+3  52+3  52+3  52+3  57+3  16+3   \n",
            "2  ...  64+3  64+3  64+3  55+3  46+3  46+3  46+3  55+3  14+3   \n",
            "3  ...  65+3  65+3  61+3  56+3  55+3  55+3  55+3  56+3  17+3   \n",
            "4  ...  40+3  40+3  36+3  36+3  38+3  38+3  38+3  36+3  87+3   \n",
            "\n",
            "                                     player_face_url  \n",
            "0  https://cdn.sofifa.net/players/158/023/15_120.png  \n",
            "1  https://cdn.sofifa.net/players/020/801/15_120.png  \n",
            "2  https://cdn.sofifa.net/players/009/014/15_120.png  \n",
            "3  https://cdn.sofifa.net/players/041/236/15_120.png  \n",
            "4  https://cdn.sofifa.net/players/167/495/15_120.png  \n",
            "\n",
            "[5 rows x 110 columns]\n",
            "player_id           0\n",
            "player_url          0\n",
            "fifa_version        0\n",
            "fifa_update         0\n",
            "fifa_update_date    0\n",
            "                   ..\n",
            "cb                  0\n",
            "rcb                 0\n",
            "rb                  0\n",
            "gk                  0\n",
            "player_face_url     0\n",
            "Length: 110, dtype: int64\n"
          ]
        },
        {
          "output_type": "stream",
          "name": "stderr",
          "text": [
            "<ipython-input-2-428aabeab5c9>:13: FutureWarning: DataFrame.fillna with 'method' is deprecated and will raise in a future version. Use obj.ffill() or obj.bfill() instead.\n",
            "  df.fillna(method='ffill', inplace=True)\n"
          ]
        }
      ]
    },
    {
      "cell_type": "code",
      "source": [
        "rating_cols = ['cdm', 'rdm', 'rwb', 'lb', 'lcb', 'cb', 'rcb', 'rb', 'gk']\n",
        "\n",
        "for col in rating_cols:\n",
        "    # Replace NaN values with a default string (e.g., '0+0')\n",
        "    df[col] = df[col].fillna('0+0')\n",
        "\n",
        "    # Normalize '-' to '+' for consistent splitting\n",
        "    normalized_col = df[col].str.replace('-', '+', regex=False)\n",
        "\n",
        "    # Split into base and bonus parts\n",
        "    df[[f\"{col}_base\", f\"{col}_bonus\"]] = normalized_col.str.split('+', expand=True).fillna(0).astype(int)\n",
        "\n",
        "# Drop the original rating columns if only base values are needed\n",
        "df.drop(columns=rating_cols, inplace=True)\n",
        "\n",
        "# View the updated dataframe\n",
        "print(df.head())\n"
      ],
      "metadata": {
        "colab": {
          "base_uri": "https://localhost:8080/"
        },
        "id": "Tfl3OvI7TNgE",
        "outputId": "3c113ab1-bd52-47af-f63f-6fbd769fb685"
      },
      "execution_count": 5,
      "outputs": [
        {
          "output_type": "stream",
          "name": "stdout",
          "text": [
            "   player_id                                        player_url  fifa_version  \\\n",
            "0     158023                /player/158023/lionel-messi/150002            15   \n",
            "1      20801  /player/20801/c-ronaldo-dos-santos-aveiro/150002            15   \n",
            "2       9014                  /player/9014/arjen-robben/150002            15   \n",
            "3      41236           /player/41236/zlatan-ibrahimovic/150002            15   \n",
            "4     167495                /player/167495/manuel-neuer/150002            15   \n",
            "\n",
            "   fifa_update fifa_update_date         short_name  \\\n",
            "0            2       2014-09-18           L. Messi   \n",
            "1            2       2014-09-18  Cristiano Ronaldo   \n",
            "2            2       2014-09-18          A. Robben   \n",
            "3            2       2014-09-18     Z. Ibrahimović   \n",
            "4            2       2014-09-18           M. Neuer   \n",
            "\n",
            "                             long_name player_positions  overall  potential  \\\n",
            "0       Lionel Andrés Messi Cuccittini               CF       93         95   \n",
            "1  Cristiano Ronaldo dos Santos Aveiro           LW, LM       92         92   \n",
            "2                         Arjen Robben       RM, LM, RW       90         90   \n",
            "3                   Zlatan Ibrahimović               ST       90         90   \n",
            "4                   Manuel Peter Neuer               GK       90         90   \n",
            "\n",
            "   ...  lcb_base  lcb_bonus  cb_base cb_bonus  rcb_base  rcb_bonus  rb_base  \\\n",
            "0  ...        45          3       45        3        45          3       54   \n",
            "1  ...        52          3       52        3        52          3       57   \n",
            "2  ...        46          3       46        3        46          3       55   \n",
            "3  ...        55          3       55        3        55          3       56   \n",
            "4  ...        38          3       38        3        38          3       36   \n",
            "\n",
            "  rb_bonus  gk_base  gk_bonus  \n",
            "0        3       15         3  \n",
            "1        3       16         3  \n",
            "2        3       14         3  \n",
            "3        3       17         3  \n",
            "4        3       87         3  \n",
            "\n",
            "[5 rows x 119 columns]\n"
          ]
        }
      ]
    },
    {
      "cell_type": "code",
      "source": [
        "# One-hot encode the player_positions column\n",
        "positions_encoded = df['player_positions'].str.get_dummies(sep=', ')\n",
        "\n",
        "# Add the one-hot encoded columns back to the dataframe\n",
        "df = pd.concat([df, positions_encoded], axis=1)\n",
        "\n",
        "# Drop the original player_positions column\n",
        "df.drop(columns=['player_positions'], inplace=True)\n",
        "\n",
        "# Display updated dataframe\n",
        "print(df.head())\n"
      ],
      "metadata": {
        "colab": {
          "base_uri": "https://localhost:8080/"
        },
        "id": "uLs6OissUCUs",
        "outputId": "ac2b9d9e-ce85-4c63-9fe5-bbbc6c5f9ddf"
      },
      "execution_count": 6,
      "outputs": [
        {
          "output_type": "stream",
          "name": "stdout",
          "text": [
            "   player_id                                        player_url  fifa_version  \\\n",
            "0     158023                /player/158023/lionel-messi/150002            15   \n",
            "1      20801  /player/20801/c-ronaldo-dos-santos-aveiro/150002            15   \n",
            "2       9014                  /player/9014/arjen-robben/150002            15   \n",
            "3      41236           /player/41236/zlatan-ibrahimovic/150002            15   \n",
            "4     167495                /player/167495/manuel-neuer/150002            15   \n",
            "\n",
            "   fifa_update fifa_update_date         short_name  \\\n",
            "0            2       2014-09-18           L. Messi   \n",
            "1            2       2014-09-18  Cristiano Ronaldo   \n",
            "2            2       2014-09-18          A. Robben   \n",
            "3            2       2014-09-18     Z. Ibrahimović   \n",
            "4            2       2014-09-18           M. Neuer   \n",
            "\n",
            "                             long_name  overall  potential    value_eur  ...  \\\n",
            "0       Lionel Andrés Messi Cuccittini       93         95  100500000.0  ...   \n",
            "1  Cristiano Ronaldo dos Santos Aveiro       92         92   79000000.0  ...   \n",
            "2                         Arjen Robben       90         90   54500000.0  ...   \n",
            "3                   Zlatan Ibrahimović       90         90   52500000.0  ...   \n",
            "4                   Manuel Peter Neuer       90         90   63500000.0  ...   \n",
            "\n",
            "   GK  LB LM  LW  LWB  RB RM  RW  RWB ST  \n",
            "0   0   0  0   0    0   0  0   0    0  0  \n",
            "1   0   0  1   1    0   0  0   0    0  0  \n",
            "2   0   0  1   0    0   0  1   1    0  0  \n",
            "3   0   0  0   0    0   0  0   0    0  1  \n",
            "4   1   0  0   0    0   0  0   0    0  0  \n",
            "\n",
            "[5 rows x 133 columns]\n"
          ]
        }
      ]
    },
    {
      "cell_type": "code",
      "source": [
        "from sklearn.preprocessing import MinMaxScaler\n",
        "\n",
        "# Select numerical columns to normalize\n",
        "numerical_cols = ['overall', 'potential'] + [col for col in df.columns if col.endswith('_base')]\n",
        "\n",
        "# Initialize MinMaxScaler\n",
        "scaler = MinMaxScaler()\n",
        "\n",
        "# Normalize numerical columns\n",
        "df[numerical_cols] = scaler.fit_transform(df[numerical_cols])\n",
        "\n",
        "# Display normalized numerical features\n",
        "print(df[numerical_cols].head())\n"
      ],
      "metadata": {
        "colab": {
          "base_uri": "https://localhost:8080/"
        },
        "id": "xElFgaGAUF09",
        "outputId": "80031553-afa0-4d59-c93b-df67e298329f"
      },
      "execution_count": 7,
      "outputs": [
        {
          "output_type": "stream",
          "name": "stdout",
          "text": [
            "    overall  potential  cdm_base  rdm_base  rwb_base   lb_base  lcb_base  \\\n",
            "0  0.981481   1.000000  0.652778  0.652778  0.648649  0.555556  0.405405   \n",
            "1  0.962963   0.945455  0.666667  0.666667  0.662162  0.597222  0.500000   \n",
            "2  0.925926   0.909091  0.680556  0.680556  0.675676  0.569444  0.418919   \n",
            "3  0.925926   0.909091  0.694444  0.694444  0.635135  0.583333  0.540541   \n",
            "4  0.925926   0.909091  0.347222  0.347222  0.297297  0.305556  0.310811   \n",
            "\n",
            "    cb_base  rcb_base   rb_base   gk_base  \n",
            "0  0.405405  0.405405  0.555556  0.166667  \n",
            "1  0.500000  0.500000  0.597222  0.177778  \n",
            "2  0.418919  0.418919  0.569444  0.155556  \n",
            "3  0.540541  0.540541  0.583333  0.188889  \n",
            "4  0.310811  0.310811  0.305556  0.966667  \n"
          ]
        }
      ]
    },
    {
      "cell_type": "code",
      "source": [
        "import numpy as np\n",
        "\n",
        "# Define the sequence length for LSTM\n",
        "sequence_length = 5\n",
        "\n",
        "# Create sequences for LSTM\n",
        "def create_lstm_sequences(data, features, seq_len):\n",
        "    sequences, labels = [], []\n",
        "    for i in range(len(data) - seq_len):\n",
        "        seq = data.iloc[i:i+seq_len][features].values\n",
        "        label = data.iloc[i+seq_len]['overall']  # Use 'overall' as target, replace if needed\n",
        "        sequences.append(seq)\n",
        "        labels.append(label)\n",
        "    return np.array(sequences), np.array(labels)\n",
        "\n",
        "# Define LSTM features\n",
        "lstm_features = ['overall', 'potential'] + [col for col in df.columns if col.endswith('_base')]\n",
        "\n",
        "# Generate sequences and labels\n",
        "lstm_sequences, lstm_labels = create_lstm_sequences(df, lstm_features, sequence_length)\n",
        "\n",
        "# Check sequence shape\n",
        "print(\"LSTM Sequences Shape:\", lstm_sequences.shape)\n",
        "print(\"LSTM Labels Shape:\", lstm_labels.shape)\n"
      ],
      "metadata": {
        "colab": {
          "base_uri": "https://localhost:8080/"
        },
        "id": "K4x0UNhbUNx_",
        "outputId": "a1f40b6f-89b3-4495-b8e3-77accf690959"
      },
      "execution_count": 8,
      "outputs": [
        {
          "output_type": "stream",
          "name": "stdout",
          "text": [
            "LSTM Sequences Shape: (161578, 5, 11)\n",
            "LSTM Labels Shape: (161578,)\n"
          ]
        }
      ]
    },
    {
      "cell_type": "code",
      "source": [
        "# List all columns in the dataset\n",
        "print(df.columns)\n"
      ],
      "metadata": {
        "colab": {
          "base_uri": "https://localhost:8080/"
        },
        "id": "buaV4jRJVNIQ",
        "outputId": "0de4ee59-5e1b-4976-a571-9e6bb8560f06"
      },
      "execution_count": 10,
      "outputs": [
        {
          "output_type": "stream",
          "name": "stdout",
          "text": [
            "Index(['player_id', 'player_url', 'fifa_version', 'fifa_update',\n",
            "       'fifa_update_date', 'short_name', 'long_name', 'overall', 'potential',\n",
            "       'value_eur',\n",
            "       ...\n",
            "       'GK', 'LB', 'LM', 'LW', 'LWB', 'RB', 'RM', 'RW', 'RWB', 'ST'],\n",
            "      dtype='object', length=133)\n"
          ]
        }
      ]
    },
    {
      "cell_type": "code",
      "source": [
        "import matplotlib.pyplot as plt\n",
        "import numpy as np\n",
        "\n",
        "# Generate radar charts for visual data\n",
        "def create_radar_chart(data, player_name, output_path):\n",
        "    # Define the attributes to visualize\n",
        "    attributes = ['overall', 'potential', 'value_eur', 'wage_eur', 'pace', 'shooting']  # Replace with existing columns\n",
        "\n",
        "    # Check if all attributes exist in the dataset\n",
        "    missing_attrs = [attr for attr in attributes if attr not in data.columns]\n",
        "    if missing_attrs:\n",
        "        print(f\"The following attributes are missing: {missing_attrs}\")\n",
        "        return\n",
        "\n",
        "    # Filter data for the specific player\n",
        "    player_data = data[data['short_name'] == player_name]\n",
        "\n",
        "    if player_data.empty:\n",
        "        print(f\"No data found for player: {player_name}\")\n",
        "        return\n",
        "\n",
        "    # Extract attribute values for the player\n",
        "    values = player_data[attributes].iloc[0].tolist()\n",
        "    values += values[:1]  # Close the radar chart\n",
        "\n",
        "    # Define angles for the radar chart\n",
        "    angles = np.linspace(0, 2 * np.pi, len(attributes), endpoint=False).tolist()\n",
        "    angles += angles[:1]\n",
        "\n",
        "    # Create the radar chart\n",
        "    fig, ax = plt.subplots(figsize=(6, 6), subplot_kw=dict(polar=True))\n",
        "    ax.fill(angles, values, color='blue', alpha=0.25)\n",
        "    ax.plot(angles, values, color='blue', linewidth=2)\n",
        "    ax.set_yticks([])\n",
        "    ax.set_xticks(angles[:-1])\n",
        "    ax.set_xticklabels(attributes)\n",
        "    ax.set_title(player_name, size=20)\n",
        "\n",
        "    # Save the chart\n",
        "    plt.savefig(output_path)\n",
        "    plt.close()\n",
        "\n",
        "# Example usage\n",
        "create_radar_chart(df, \"L. Messi\", \"lionel_messi_radar.png\")\n"
      ],
      "metadata": {
        "id": "neYHumMyU7cm"
      },
      "execution_count": 11,
      "outputs": []
    },
    {
      "cell_type": "code",
      "source": [
        "from sklearn.model_selection import train_test_split\n",
        "\n",
        "# Split LSTM data\n",
        "lstm_train, lstm_test, y_train, y_test = train_test_split(\n",
        "    lstm_sequences, lstm_labels, test_size=0.2, random_state=42\n",
        ")\n",
        "\n",
        "# Verify shapes\n",
        "print(\"Training Data Shape:\", lstm_train.shape)\n",
        "print(\"Testing Data Shape:\", lstm_test.shape)\n"
      ],
      "metadata": {
        "colab": {
          "base_uri": "https://localhost:8080/"
        },
        "id": "bm9aRyOfVxCD",
        "outputId": "12e1a130-6cf9-4a34-c28e-b5b50be4425a"
      },
      "execution_count": 12,
      "outputs": [
        {
          "output_type": "stream",
          "name": "stdout",
          "text": [
            "Training Data Shape: (129262, 5, 11)\n",
            "Testing Data Shape: (32316, 5, 11)\n"
          ]
        }
      ]
    },
    {
      "cell_type": "code",
      "source": [
        "from tensorflow.keras.models import Sequential\n",
        "from tensorflow.keras.layers import LSTM, Dense, Dropout\n",
        "from tensorflow.keras.optimizers import Adam\n",
        "\n",
        "# Define the LSTM model\n",
        "model = Sequential()\n",
        "model.add(LSTM(64, input_shape=(lstm_train.shape[1], lstm_train.shape[2]), return_sequences=False))\n",
        "model.add(Dropout(0.2))  # Prevent overfitting\n",
        "model.add(Dense(32, activation='relu'))\n",
        "model.add(Dense(1))  # Single output for regression\n",
        "\n",
        "# Compile the model\n",
        "model.compile(optimizer=Adam(learning_rate=0.001), loss='mean_squared_error', metrics=['mae'])\n",
        "\n",
        "# Print model summary\n",
        "model.summary()\n"
      ],
      "metadata": {
        "colab": {
          "base_uri": "https://localhost:8080/",
          "height": 312
        },
        "id": "n6ABBV2DWHvx",
        "outputId": "3bb84340-f837-482c-ea91-c60cc00d104e"
      },
      "execution_count": 13,
      "outputs": [
        {
          "output_type": "stream",
          "name": "stderr",
          "text": [
            "/usr/local/lib/python3.10/dist-packages/keras/src/layers/rnn/rnn.py:204: UserWarning: Do not pass an `input_shape`/`input_dim` argument to a layer. When using Sequential models, prefer using an `Input(shape)` object as the first layer in the model instead.\n",
            "  super().__init__(**kwargs)\n"
          ]
        },
        {
          "output_type": "display_data",
          "data": {
            "text/plain": [
              "\u001b[1mModel: \"sequential\"\u001b[0m\n"
            ],
            "text/html": [
              "<pre style=\"white-space:pre;overflow-x:auto;line-height:normal;font-family:Menlo,'DejaVu Sans Mono',consolas,'Courier New',monospace\"><span style=\"font-weight: bold\">Model: \"sequential\"</span>\n",
              "</pre>\n"
            ]
          },
          "metadata": {}
        },
        {
          "output_type": "display_data",
          "data": {
            "text/plain": [
              "┏━━━━━━━━━━━━━━━━━━━━━━━━━━━━━━━━━━━━━━┳━━━━━━━━━━━━━━━━━━━━━━━━━━━━━┳━━━━━━━━━━━━━━━━━┓\n",
              "┃\u001b[1m \u001b[0m\u001b[1mLayer (type)                        \u001b[0m\u001b[1m \u001b[0m┃\u001b[1m \u001b[0m\u001b[1mOutput Shape               \u001b[0m\u001b[1m \u001b[0m┃\u001b[1m \u001b[0m\u001b[1m        Param #\u001b[0m\u001b[1m \u001b[0m┃\n",
              "┡━━━━━━━━━━━━━━━━━━━━━━━━━━━━━━━━━━━━━━╇━━━━━━━━━━━━━━━━━━━━━━━━━━━━━╇━━━━━━━━━━━━━━━━━┩\n",
              "│ lstm (\u001b[38;5;33mLSTM\u001b[0m)                          │ (\u001b[38;5;45mNone\u001b[0m, \u001b[38;5;34m64\u001b[0m)                  │          \u001b[38;5;34m19,456\u001b[0m │\n",
              "├──────────────────────────────────────┼─────────────────────────────┼─────────────────┤\n",
              "│ dropout (\u001b[38;5;33mDropout\u001b[0m)                    │ (\u001b[38;5;45mNone\u001b[0m, \u001b[38;5;34m64\u001b[0m)                  │               \u001b[38;5;34m0\u001b[0m │\n",
              "├──────────────────────────────────────┼─────────────────────────────┼─────────────────┤\n",
              "│ dense (\u001b[38;5;33mDense\u001b[0m)                        │ (\u001b[38;5;45mNone\u001b[0m, \u001b[38;5;34m32\u001b[0m)                  │           \u001b[38;5;34m2,080\u001b[0m │\n",
              "├──────────────────────────────────────┼─────────────────────────────┼─────────────────┤\n",
              "│ dense_1 (\u001b[38;5;33mDense\u001b[0m)                      │ (\u001b[38;5;45mNone\u001b[0m, \u001b[38;5;34m1\u001b[0m)                   │              \u001b[38;5;34m33\u001b[0m │\n",
              "└──────────────────────────────────────┴─────────────────────────────┴─────────────────┘\n"
            ],
            "text/html": [
              "<pre style=\"white-space:pre;overflow-x:auto;line-height:normal;font-family:Menlo,'DejaVu Sans Mono',consolas,'Courier New',monospace\">┏━━━━━━━━━━━━━━━━━━━━━━━━━━━━━━━━━━━━━━┳━━━━━━━━━━━━━━━━━━━━━━━━━━━━━┳━━━━━━━━━━━━━━━━━┓\n",
              "┃<span style=\"font-weight: bold\"> Layer (type)                         </span>┃<span style=\"font-weight: bold\"> Output Shape                </span>┃<span style=\"font-weight: bold\">         Param # </span>┃\n",
              "┡━━━━━━━━━━━━━━━━━━━━━━━━━━━━━━━━━━━━━━╇━━━━━━━━━━━━━━━━━━━━━━━━━━━━━╇━━━━━━━━━━━━━━━━━┩\n",
              "│ lstm (<span style=\"color: #0087ff; text-decoration-color: #0087ff\">LSTM</span>)                          │ (<span style=\"color: #00d7ff; text-decoration-color: #00d7ff\">None</span>, <span style=\"color: #00af00; text-decoration-color: #00af00\">64</span>)                  │          <span style=\"color: #00af00; text-decoration-color: #00af00\">19,456</span> │\n",
              "├──────────────────────────────────────┼─────────────────────────────┼─────────────────┤\n",
              "│ dropout (<span style=\"color: #0087ff; text-decoration-color: #0087ff\">Dropout</span>)                    │ (<span style=\"color: #00d7ff; text-decoration-color: #00d7ff\">None</span>, <span style=\"color: #00af00; text-decoration-color: #00af00\">64</span>)                  │               <span style=\"color: #00af00; text-decoration-color: #00af00\">0</span> │\n",
              "├──────────────────────────────────────┼─────────────────────────────┼─────────────────┤\n",
              "│ dense (<span style=\"color: #0087ff; text-decoration-color: #0087ff\">Dense</span>)                        │ (<span style=\"color: #00d7ff; text-decoration-color: #00d7ff\">None</span>, <span style=\"color: #00af00; text-decoration-color: #00af00\">32</span>)                  │           <span style=\"color: #00af00; text-decoration-color: #00af00\">2,080</span> │\n",
              "├──────────────────────────────────────┼─────────────────────────────┼─────────────────┤\n",
              "│ dense_1 (<span style=\"color: #0087ff; text-decoration-color: #0087ff\">Dense</span>)                      │ (<span style=\"color: #00d7ff; text-decoration-color: #00d7ff\">None</span>, <span style=\"color: #00af00; text-decoration-color: #00af00\">1</span>)                   │              <span style=\"color: #00af00; text-decoration-color: #00af00\">33</span> │\n",
              "└──────────────────────────────────────┴─────────────────────────────┴─────────────────┘\n",
              "</pre>\n"
            ]
          },
          "metadata": {}
        },
        {
          "output_type": "display_data",
          "data": {
            "text/plain": [
              "\u001b[1m Total params: \u001b[0m\u001b[38;5;34m21,569\u001b[0m (84.25 KB)\n"
            ],
            "text/html": [
              "<pre style=\"white-space:pre;overflow-x:auto;line-height:normal;font-family:Menlo,'DejaVu Sans Mono',consolas,'Courier New',monospace\"><span style=\"font-weight: bold\"> Total params: </span><span style=\"color: #00af00; text-decoration-color: #00af00\">21,569</span> (84.25 KB)\n",
              "</pre>\n"
            ]
          },
          "metadata": {}
        },
        {
          "output_type": "display_data",
          "data": {
            "text/plain": [
              "\u001b[1m Trainable params: \u001b[0m\u001b[38;5;34m21,569\u001b[0m (84.25 KB)\n"
            ],
            "text/html": [
              "<pre style=\"white-space:pre;overflow-x:auto;line-height:normal;font-family:Menlo,'DejaVu Sans Mono',consolas,'Courier New',monospace\"><span style=\"font-weight: bold\"> Trainable params: </span><span style=\"color: #00af00; text-decoration-color: #00af00\">21,569</span> (84.25 KB)\n",
              "</pre>\n"
            ]
          },
          "metadata": {}
        },
        {
          "output_type": "display_data",
          "data": {
            "text/plain": [
              "\u001b[1m Non-trainable params: \u001b[0m\u001b[38;5;34m0\u001b[0m (0.00 B)\n"
            ],
            "text/html": [
              "<pre style=\"white-space:pre;overflow-x:auto;line-height:normal;font-family:Menlo,'DejaVu Sans Mono',consolas,'Courier New',monospace\"><span style=\"font-weight: bold\"> Non-trainable params: </span><span style=\"color: #00af00; text-decoration-color: #00af00\">0</span> (0.00 B)\n",
              "</pre>\n"
            ]
          },
          "metadata": {}
        }
      ]
    },
    {
      "cell_type": "code",
      "source": [
        "# Train the model\n",
        "history = model.fit(\n",
        "    lstm_train,\n",
        "    y_train,\n",
        "    epochs=10,  # Adjust epochs as needed\n",
        "    batch_size=32,\n",
        "    validation_split=0.2  # Use 20% of training data for validation\n",
        ")\n"
      ],
      "metadata": {
        "colab": {
          "base_uri": "https://localhost:8080/"
        },
        "id": "ld-DJCAxWTyB",
        "outputId": "bb64aad1-1d41-4665-bcbc-22dacf4670ab"
      },
      "execution_count": 14,
      "outputs": [
        {
          "output_type": "stream",
          "name": "stdout",
          "text": [
            "Epoch 1/10\n",
            "\u001b[1m3232/3232\u001b[0m \u001b[32m━━━━━━━━━━━━━━━━━━━━\u001b[0m\u001b[37m\u001b[0m \u001b[1m21s\u001b[0m 5ms/step - loss: 0.0037 - mae: 0.0315 - val_loss: 0.0011 - val_mae: 0.0305\n",
            "Epoch 2/10\n",
            "\u001b[1m3232/3232\u001b[0m \u001b[32m━━━━━━━━━━━━━━━━━━━━\u001b[0m\u001b[37m\u001b[0m \u001b[1m18s\u001b[0m 5ms/step - loss: 1.9883e-04 - mae: 0.0084 - val_loss: 0.0018 - val_mae: 0.0377\n",
            "Epoch 3/10\n",
            "\u001b[1m3232/3232\u001b[0m \u001b[32m━━━━━━━━━━━━━━━━━━━━\u001b[0m\u001b[37m\u001b[0m \u001b[1m20s\u001b[0m 5ms/step - loss: 1.3825e-04 - mae: 0.0062 - val_loss: 0.0024 - val_mae: 0.0467\n",
            "Epoch 4/10\n",
            "\u001b[1m3232/3232\u001b[0m \u001b[32m━━━━━━━━━━━━━━━━━━━━\u001b[0m\u001b[37m\u001b[0m \u001b[1m21s\u001b[0m 5ms/step - loss: 7.9720e-05 - mae: 0.0049 - val_loss: 0.0029 - val_mae: 0.0493\n",
            "Epoch 5/10\n",
            "\u001b[1m3232/3232\u001b[0m \u001b[32m━━━━━━━━━━━━━━━━━━━━\u001b[0m\u001b[37m\u001b[0m \u001b[1m21s\u001b[0m 5ms/step - loss: 9.8342e-05 - mae: 0.0043 - val_loss: 0.0026 - val_mae: 0.0463\n",
            "Epoch 6/10\n",
            "\u001b[1m3232/3232\u001b[0m \u001b[32m━━━━━━━━━━━━━━━━━━━━\u001b[0m\u001b[37m\u001b[0m \u001b[1m19s\u001b[0m 5ms/step - loss: 7.2258e-05 - mae: 0.0038 - val_loss: 0.0033 - val_mae: 0.0528\n",
            "Epoch 7/10\n",
            "\u001b[1m3232/3232\u001b[0m \u001b[32m━━━━━━━━━━━━━━━━━━━━\u001b[0m\u001b[37m\u001b[0m \u001b[1m22s\u001b[0m 5ms/step - loss: 6.3832e-05 - mae: 0.0036 - val_loss: 0.0038 - val_mae: 0.0574\n",
            "Epoch 8/10\n",
            "\u001b[1m3232/3232\u001b[0m \u001b[32m━━━━━━━━━━━━━━━━━━━━\u001b[0m\u001b[37m\u001b[0m \u001b[1m19s\u001b[0m 5ms/step - loss: 7.9142e-05 - mae: 0.0036 - val_loss: 0.0041 - val_mae: 0.0596\n",
            "Epoch 9/10\n",
            "\u001b[1m3232/3232\u001b[0m \u001b[32m━━━━━━━━━━━━━━━━━━━━\u001b[0m\u001b[37m\u001b[0m \u001b[1m16s\u001b[0m 5ms/step - loss: 4.6215e-05 - mae: 0.0033 - val_loss: 0.0044 - val_mae: 0.0620\n",
            "Epoch 10/10\n",
            "\u001b[1m3232/3232\u001b[0m \u001b[32m━━━━━━━━━━━━━━━━━━━━\u001b[0m\u001b[37m\u001b[0m \u001b[1m21s\u001b[0m 5ms/step - loss: 5.8175e-05 - mae: 0.0032 - val_loss: 0.0050 - val_mae: 0.0665\n"
          ]
        }
      ]
    },
    {
      "cell_type": "code",
      "source": [
        "import matplotlib.pyplot as plt\n",
        "\n",
        "# Plot training and validation loss\n",
        "plt.plot(history.history['loss'], label='Training Loss')\n",
        "plt.plot(history.history['val_loss'], label='Validation Loss')\n",
        "plt.title('LSTM Training and Validation Loss')\n",
        "plt.xlabel('Epochs')\n",
        "plt.ylabel('Loss')\n",
        "plt.legend()\n",
        "plt.show()\n"
      ],
      "metadata": {
        "colab": {
          "base_uri": "https://localhost:8080/",
          "height": 472
        },
        "id": "j1AfOlSJXKZv",
        "outputId": "4c48ff96-e501-473d-f829-bf04f3482dc8"
      },
      "execution_count": 15,
      "outputs": [
        {
          "output_type": "display_data",
          "data": {
            "text/plain": [
              "<Figure size 640x480 with 1 Axes>"
            ],
            "image/png": "[encoded data removed]"
          },
          "metadata": {}
        }
      ]
    },
    {
      "cell_type": "code",
      "source": [
        "# Evaluate the model on the test set\n",
        "test_loss, test_mae = model.evaluate(lstm_test, y_test)\n",
        "print(f\"Test Loss: {test_loss}\")\n",
        "print(f\"Test Mean Absolute Error (MAE): {test_mae}\")\n"
      ],
      "metadata": {
        "colab": {
          "base_uri": "https://localhost:8080/"
        },
        "id": "KQg2gkQyXSAx",
        "outputId": "dc1fcbc4-8f22-4fc6-b4cc-d1157a5f1db7"
      },
      "execution_count": 16,
      "outputs": [
        {
          "output_type": "stream",
          "name": "stdout",
          "text": [
            "\u001b[1m1010/1010\u001b[0m \u001b[32m━━━━━━━━━━━━━━━━━━━━\u001b[0m\u001b[37m\u001b[0m \u001b[1m2s\u001b[0m 2ms/step - loss: 0.0049 - mae: 0.0662\n",
            "Test Loss: 0.004943015985190868\n",
            "Test Mean Absolute Error (MAE): 0.06611187756061554\n"
          ]
        }
      ]
    },
    {
      "cell_type": "code",
      "source": [
        "# Make predictions\n",
        "predictions = model.predict(lstm_test)\n",
        "\n",
        "# Display a sample of predictions and true values\n",
        "for i in range(5):\n",
        "    print(f\"Predicted: {predictions[i][0]:.2f}, Actual: {y_test[i]:.2f}\")\n"
      ],
      "metadata": {
        "colab": {
          "base_uri": "https://localhost:8080/"
        },
        "id": "tW-mrdbrXYIW",
        "outputId": "93e326c6-cdaf-4ea4-df93-9ca8ef302daf"
      },
      "execution_count": 20,
      "outputs": [
        {
          "output_type": "stream",
          "name": "stdout",
          "text": [
            "\u001b[1m1010/1010\u001b[0m \u001b[32m━━━━━━━━━━━━━━━━━━━━\u001b[0m\u001b[37m\u001b[0m \u001b[1m2s\u001b[0m 1ms/step\n",
            "Predicted: 0.43, Actual: 0.50\n",
            "Predicted: 0.61, Actual: 0.72\n",
            "Predicted: 0.52, Actual: 0.61\n",
            "Predicted: 0.38, Actual: 0.44\n",
            "Predicted: 0.63, Actual: 0.74\n"
          ]
        }
      ]
    },
    {
      "cell_type": "code",
      "source": [
        "# Save the model using the recommended Keras format\n",
        "model.save(\"lstm_player_model.keras\")\n",
        "\n"
      ],
      "metadata": {
        "id": "hBHx8-qUXgFn"
      },
      "execution_count": 19,
      "outputs": []
    },
    {
      "cell_type": "code",
      "source": [
        "# Create and write Streamlit app code into a file named \"app.py\"\n",
        "streamlit_code = \"\"\"\n",
        "import streamlit as st\n",
        "import numpy as np\n",
        "from tensorflow.keras.models import load_model\n",
        "\n",
        "# Load the trained model\n",
        "model = load_model(\"lstm_player_model.keras\")\n",
        "\n",
        "# App title and description\n",
        "st.title(\"FIFA Player Performance Prediction\")\n",
        "st.write(\"Predict a player's performance or transfer value based on their attributes.\")\n",
        "\n",
        "# Input fields for player attributes\n",
        "st.sidebar.header(\"Player Attributes\")\n",
        "overall = st.sidebar.slider(\"Overall\", min_value=0, max_value=100, value=75)\n",
        "potential = st.sidebar.slider(\"Potential\", min_value=0, max_value=100, value=80)\n",
        "\n",
        "# Add more features as needed\n",
        "pace = st.sidebar.slider(\"Pace\", min_value=0, max_value=100, value=70)\n",
        "shooting = st.sidebar.slider(\"Shooting\", min_value=0, max_value=100, value=65)\n",
        "dribbling = st.sidebar.slider(\"Dribbling\", min_value=0, max_value=100, value=75)\n",
        "\n",
        "# Create a time-series sequence for prediction (dummy example)\n",
        "sequence_length = 5\n",
        "lstm_features = [overall, potential, pace, shooting, dribbling]\n",
        "sequence = np.tile(lstm_features, (sequence_length, 1))  # Repeat the input for a fixed sequence length\n",
        "\n",
        "# Reshape input for LSTM\n",
        "sequence = sequence.reshape(1, sequence_length, len(lstm_features))\n",
        "\n",
        "# Predict using the model\n",
        "if st.button(\"Predict\"):\n",
        "    prediction = model.predict(sequence)\n",
        "    st.write(f\"Predicted Value: {prediction[0][0]:.2f}\")\n",
        "\"\"\"\n",
        "\n",
        "# Write the code to \"app.py\"\n",
        "with open('/content/app.py', 'w') as f:\n",
        "    f.write(streamlit_code)\n",
        "\n",
        "print(\"Streamlit app code has been saved as 'app.py'.\")\n"
      ],
      "metadata": {
        "colab": {
          "base_uri": "https://localhost:8080/"
        },
        "id": "UeLJ_bobaUNq",
        "outputId": "0d0d1b6a-f1d0-4de8-bde5-c2d62179faf1"
      },
      "execution_count": 21,
      "outputs": [
        {
          "output_type": "stream",
          "name": "stdout",
          "text": [
            "Streamlit app code has been saved as 'app.py'.\n"
          ]
        }
      ]
    },
    {
      "cell_type": "code",
      "source": [
        "!pip install streamlit\n"
      ],
      "metadata": {
        "colab": {
          "base_uri": "https://localhost:8080/"
        },
        "id": "BDV0Mkn8aXlW",
        "outputId": "f844550b-65ce-4d4c-9acc-8e31035268f9"
      },
      "execution_count": 22,
      "outputs": [
        {
          "output_type": "stream",
          "name": "stdout",
          "text": [
            "Collecting streamlit\n",
            "  Downloading streamlit-1.40.1-py2.py3-none-any.whl.metadata (8.5 kB)\n",
            "Requirement already satisfied: altair<6,>=4.0 in /usr/local/lib/python3.10/dist-packages (from streamlit) (4.2.2)\n",
            "Requirement already satisfied: blinker<2,>=1.0.0 in /usr/local/lib/python3.10/dist-packages (from streamlit) (1.9.0)\n",
            "Requirement already satisfied: cachetools<6,>=4.0 in /usr/local/lib/python3.10/dist-packages (from streamlit) (5.5.0)\n",
            "Requirement already satisfied: click<9,>=7.0 in /usr/local/lib/python3.10/dist-packages (from streamlit) (8.1.7)\n",
            "Requirement already satisfied: numpy<3,>=1.20 in /usr/local/lib/python3.10/dist-packages (from streamlit) (1.26.4)\n",
            "Requirement already satisfied: packaging<25,>=20 in /usr/local/lib/python3.10/dist-packages (from streamlit) (24.2)\n",
            "Requirement already satisfied: pandas<3,>=1.4.0 in /usr/local/lib/python3.10/dist-packages (from streamlit) (2.2.2)\n",
            "Requirement already satisfied: pillow<12,>=7.1.0 in /usr/local/lib/python3.10/dist-packages (from streamlit) (11.0.0)\n",
            "Requirement already satisfied: protobuf<6,>=3.20 in /usr/local/lib/python3.10/dist-packages (from streamlit) (4.25.5)\n",
            "Requirement already satisfied: pyarrow>=7.0 in /usr/local/lib/python3.10/dist-packages (from streamlit) (17.0.0)\n",
            "Requirement already satisfied: requests<3,>=2.27 in /usr/local/lib/python3.10/dist-packages (from streamlit) (2.32.3)\n",
            "Requirement already satisfied: rich<14,>=10.14.0 in /usr/local/lib/python3.10/dist-packages (from streamlit) (13.9.4)\n",
            "Requirement already satisfied: tenacity<10,>=8.1.0 in /usr/local/lib/python3.10/dist-packages (from streamlit) (9.0.0)\n",
            "Requirement already satisfied: toml<2,>=0.10.1 in /usr/local/lib/python3.10/dist-packages (from streamlit) (0.10.2)\n",
            "Requirement already satisfied: typing-extensions<5,>=4.3.0 in /usr/local/lib/python3.10/dist-packages (from streamlit) (4.12.2)\n",
            "Requirement already satisfied: gitpython!=3.1.19,<4,>=3.0.7 in /usr/local/lib/python3.10/dist-packages (from streamlit) (3.1.43)\n",
            "Collecting pydeck<1,>=0.8.0b4 (from streamlit)\n",
            "  Downloading pydeck-0.9.1-py2.py3-none-any.whl.metadata (4.1 kB)\n",
            "Requirement already satisfied: tornado<7,>=6.0.3 in /usr/local/lib/python3.10/dist-packages (from streamlit) (6.3.3)\n",
            "Collecting watchdog<7,>=2.1.5 (from streamlit)\n",
            "  Downloading watchdog-6.0.0-py3-none-manylinux2014_x86_64.whl.metadata (44 kB)\n",
            "\u001b[2K     \u001b[90m━━━━━━━━━━━━━━━━━━━━━━━━━━━━━━━━━━━━━━━━\u001b[0m \u001b[32m44.3/44.3 kB\u001b[0m \u001b[31m3.4 MB/s\u001b[0m eta \u001b[36m0:00:00\u001b[0m\n",
            "\u001b[?25hRequirement already satisfied: entrypoints in /usr/local/lib/python3.10/dist-packages (from altair<6,>=4.0->streamlit) (0.4)\n",
            "Requirement already satisfied: jinja2 in /usr/local/lib/python3.10/dist-packages (from altair<6,>=4.0->streamlit) (3.1.4)\n",
            "Requirement already satisfied: jsonschema>=3.0 in /usr/local/lib/python3.10/dist-packages (from altair<6,>=4.0->streamlit) (4.23.0)\n",
            "Requirement already satisfied: toolz in /usr/local/lib/python3.10/dist-packages (from altair<6,>=4.0->streamlit) (0.12.1)\n",
            "Requirement already satisfied: gitdb<5,>=4.0.1 in /usr/local/lib/python3.10/dist-packages (from gitpython!=3.1.19,<4,>=3.0.7->streamlit) (4.0.11)\n",
            "Requirement already satisfied: python-dateutil>=2.8.2 in /usr/local/lib/python3.10/dist-packages (from pandas<3,>=1.4.0->streamlit) (2.8.2)\n",
            "Requirement already satisfied: pytz>=2020.1 in /usr/local/lib/python3.10/dist-packages (from pandas<3,>=1.4.0->streamlit) (2024.2)\n",
            "Requirement already satisfied: tzdata>=2022.7 in /usr/local/lib/python3.10/dist-packages (from pandas<3,>=1.4.0->streamlit) (2024.2)\n",
            "Requirement already satisfied: charset-normalizer<4,>=2 in /usr/local/lib/python3.10/dist-packages (from requests<3,>=2.27->streamlit) (3.4.0)\n",
            "Requirement already satisfied: idna<4,>=2.5 in /usr/local/lib/python3.10/dist-packages (from requests<3,>=2.27->streamlit) (3.10)\n",
            "Requirement already satisfied: urllib3<3,>=1.21.1 in /usr/local/lib/python3.10/dist-packages (from requests<3,>=2.27->streamlit) (2.2.3)\n",
            "Requirement already satisfied: certifi>=2017.4.17 in /usr/local/lib/python3.10/dist-packages (from requests<3,>=2.27->streamlit) (2024.8.30)\n",
            "Requirement already satisfied: markdown-it-py>=2.2.0 in /usr/local/lib/python3.10/dist-packages (from rich<14,>=10.14.0->streamlit) (3.0.0)\n",
            "Requirement already satisfied: pygments<3.0.0,>=2.13.0 in /usr/local/lib/python3.10/dist-packages (from rich<14,>=10.14.0->streamlit) (2.18.0)\n",
            "Requirement already satisfied: smmap<6,>=3.0.1 in /usr/local/lib/python3.10/dist-packages (from gitdb<5,>=4.0.1->gitpython!=3.1.19,<4,>=3.0.7->streamlit) (5.0.1)\n",
            "Requirement already satisfied: MarkupSafe>=2.0 in /usr/local/lib/python3.10/dist-packages (from jinja2->altair<6,>=4.0->streamlit) (3.0.2)\n",
            "Requirement already satisfied: attrs>=22.2.0 in /usr/local/lib/python3.10/dist-packages (from jsonschema>=3.0->altair<6,>=4.0->streamlit) (24.2.0)\n",
            "Requirement already satisfied: jsonschema-specifications>=2023.03.6 in /usr/local/lib/python3.10/dist-packages (from jsonschema>=3.0->altair<6,>=4.0->streamlit) (2024.10.1)\n",
            "Requirement already satisfied: referencing>=0.28.4 in /usr/local/lib/python3.10/dist-packages (from jsonschema>=3.0->altair<6,>=4.0->streamlit) (0.35.1)\n",
            "Requirement already satisfied: rpds-py>=0.7.1 in /usr/local/lib/python3.10/dist-packages (from jsonschema>=3.0->altair<6,>=4.0->streamlit) (0.21.0)\n",
            "Requirement already satisfied: mdurl~=0.1 in /usr/local/lib/python3.10/dist-packages (from markdown-it-py>=2.2.0->rich<14,>=10.14.0->streamlit) (0.1.2)\n",
            "Requirement already satisfied: six>=1.5 in /usr/local/lib/python3.10/dist-packages (from python-dateutil>=2.8.2->pandas<3,>=1.4.0->streamlit) (1.16.0)\n",
            "Downloading streamlit-1.40.1-py2.py3-none-any.whl (8.6 MB)\n",
            "\u001b[2K   \u001b[90m━━━━━━━━━━━━━━━━━━━━━━━━━━━━━━━━━━━━━━━━\u001b[0m \u001b[32m8.6/8.6 MB\u001b[0m \u001b[31m62.0 MB/s\u001b[0m eta \u001b[36m0:00:00\u001b[0m\n",
            "\u001b[?25hDownloading pydeck-0.9.1-py2.py3-none-any.whl (6.9 MB)\n",
            "\u001b[2K   \u001b[90m━━━━━━━━━━━━━━━━━━━━━━━━━━━━━━━━━━━━━━━━\u001b[0m \u001b[32m6.9/6.9 MB\u001b[0m \u001b[31m80.9 MB/s\u001b[0m eta \u001b[36m0:00:00\u001b[0m\n",
            "\u001b[?25hDownloading watchdog-6.0.0-py3-none-manylinux2014_x86_64.whl (79 kB)\n",
            "\u001b[2K   \u001b[90m━━━━━━━━━━━━━━━━━━━━━━━━━━━━━━━━━━━━━━━━\u001b[0m \u001b[32m79.1/79.1 kB\u001b[0m \u001b[31m7.3 MB/s\u001b[0m eta \u001b[36m0:00:00\u001b[0m\n",
            "\u001b[?25hInstalling collected packages: watchdog, pydeck, streamlit\n",
            "Successfully installed pydeck-0.9.1 streamlit-1.40.1 watchdog-6.0.0\n"
          ]
        }
      ]
    },
    {
      "cell_type": "code",
      "source": [],
      "metadata": {
        "id": "nU9tiQltj31n"
      },
      "execution_count": null,
      "outputs": []
    }
  ]
}